{
 "cells": [
  {
   "cell_type": "markdown",
   "metadata": {},
   "source": [
    "# Imports"
   ]
  },
  {
   "cell_type": "code",
   "execution_count": 1,
   "metadata": {},
   "outputs": [],
   "source": [
    "import openai\n",
    "from dotenv import load_dotenv, find_dotenv"
   ]
  },
  {
   "cell_type": "markdown",
   "metadata": {},
   "source": [
    "# Inicializações"
   ]
  },
  {
   "cell_type": "code",
   "execution_count": 2,
   "metadata": {},
   "outputs": [],
   "source": [
    "load_dotenv(find_dotenv())\n",
    "client: openai.Client = openai.Client()"
   ]
  },
  {
   "cell_type": "code",
   "execution_count": 3,
   "metadata": {},
   "outputs": [],
   "source": [
    "mensagens: list[dict] = [\n",
    "    {'role': 'user', 'content': 'O que é uma maça em 5 palavras'}\n",
    "]\n",
    "\n",
    "resposta = client.chat.completions.create(\n",
    "    messages=mensagens,\n",
    "    model='gpt-3.5-turbo-0125',\n",
    "    max_tokens=1000,\n",
    "    temperature=0\n",
    ")"
   ]
  },
  {
   "cell_type": "code",
   "execution_count": 7,
   "metadata": {},
   "outputs": [
    {
     "data": {
      "text/plain": [
       "'Fruta redonda e saborosa.'"
      ]
     },
     "execution_count": 7,
     "metadata": {},
     "output_type": "execute_result"
    }
   ],
   "source": [
    "resposta.choices[0].message.content"
   ]
  },
  {
   "cell_type": "code",
   "execution_count": 10,
   "metadata": {},
   "outputs": [
    {
     "name": "stdout",
     "output_type": "stream",
     "text": [
      "Vermelha ou verde, dependendo da variedade.\n"
     ]
    }
   ],
   "source": [
    "mensagens.append({'role': 'assistant', 'content': resposta.choices[0].message.content},)\n",
    "mensagens.append({'role': 'user', 'content': 'E qual é a sua cor'})\n",
    "\n",
    "resposta = client.chat.completions.create(\n",
    "    messages=mensagens,\n",
    "    model='gpt-3.5-turbo-0125',\n",
    "    max_tokens=1000,\n",
    "    temperature=0\n",
    ")\n",
    "\n",
    "print(resposta.choices[0].message.content)"
   ]
  },
  {
   "cell_type": "markdown",
   "metadata": {},
   "source": [
    "# Definindo uma função para geração"
   ]
  },
  {
   "cell_type": "code",
   "execution_count": 19,
   "metadata": {},
   "outputs": [],
   "source": [
    "'''\n",
    "@temperature:\n",
    "    Defini a aleatoriedade das resposta retornada indo de 0 até 2\n",
    "'''\n",
    "def gerar_texto(mensagens: list, model='gpt-3.5-turbo-0125', max_tokens=1000, temperature=0, stream=False):\n",
    "    resposta = client.chat.completions.create(\n",
    "        messages=mensagens,\n",
    "        model=model,\n",
    "        max_tokens=max_tokens,\n",
    "        temperature=temperature,\n",
    "        stream=stream\n",
    "    )\n",
    "\n",
    "    texto_resposta = ''\n",
    "\n",
    "    if stream:\n",
    "        for stream_resposta in resposta:\n",
    "            texto = stream_resposta.choices[0].delta.content\n",
    "            if texto:\n",
    "                print(texto, end='')\n",
    "                texto_resposta += texto\n",
    "    else:\n",
    "        print(resposta.choices[0].message.content)\n",
    "        texto_resposta = resposta.choices[0].message.content\n",
    "        \n",
    "    # mensagens.append(resposta.choices[0].message.model_dump(exclude_none=True))\n",
    "    mensagens.append({\n",
    "        'role': 'assistant',\n",
    "        'content': texto_resposta\n",
    "    })\n",
    "\n",
    "    return mensagens"
   ]
  },
  {
   "cell_type": "code",
   "execution_count": 20,
   "metadata": {},
   "outputs": [
    {
     "name": "stdout",
     "output_type": "stream",
     "text": [
      "Uma maçã é uma fruta redonda, geralmente de cor vermelha, verde ou amarela, com polpa branca e suculenta. É uma das frutas mais populares e consumidas em todo o mundo, sendo conhecida por seu sabor doce e refrescante. A maçã é rica em fibras, vitaminas e minerais, sendo considerada uma fruta muito saudável e benéfica para a saúde. Ela pode ser consumida in natura, em sucos, saladas de frutas, sobremesas e diversas outras preparações culinárias.\n",
      "A cor da maçã pode variar de acordo com a variedade da fruta. As maçãs mais comuns são vermelhas, verdes ou amarelas, mas também existem maçãs de outras cores, como rosas ou rajadas. A cor da casca da maçã pode ser uniforme ou apresentar manchas ou listras, dependendo da variedade. A polpa da maçã geralmente é branca ou creme, independentemente da cor da casca."
     ]
    }
   ],
   "source": [
    "mensagens: list[dict] = [{'role': 'user', 'content': 'O que é uma maça'}]\n",
    "mensagens = gerar_texto(mensagens, stream=True)\n",
    "print()\n",
    "mensagens.append({'role': 'user', 'content': 'E qual a sua cor'})\n",
    "mensagens = gerar_texto(mensagens, stream=True)"
   ]
  }
 ],
 "metadata": {
  "kernelspec": {
   "display_name": ".venv",
   "language": "python",
   "name": "python3"
  },
  "language_info": {
   "codemirror_mode": {
    "name": "ipython",
    "version": 3
   },
   "file_extension": ".py",
   "mimetype": "text/x-python",
   "name": "python",
   "nbconvert_exporter": "python",
   "pygments_lexer": "ipython3",
   "version": "3.12.2"
  }
 },
 "nbformat": 4,
 "nbformat_minor": 2
}
