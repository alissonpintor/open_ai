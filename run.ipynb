{
 "cells": [
  {
   "cell_type": "code",
   "execution_count": 28,
   "metadata": {},
   "outputs": [],
   "source": [
    "from dotenv import load_dotenv\n",
    "from openai import OpenAI # Version 1.33.0\n",
    "from openai.types.beta.threads.message_create_params import Attachment, AttachmentToolFileSearch\n",
    "\n",
    "load_dotenv()\n",
    "client = OpenAI()   "
   ]
  },
  {
   "cell_type": "code",
   "execution_count": 29,
   "metadata": {},
   "outputs": [],
   "source": [
    "import json"
   ]
  },
  {
   "cell_type": "markdown",
   "metadata": {},
   "source": [
    "##### Carregando o arquivo do pedido"
   ]
  },
  {
   "cell_type": "code",
   "execution_count": 30,
   "metadata": {},
   "outputs": [],
   "source": [
    "# Upload your pdf(s) to the OpenAI API\n",
    "# file = client.files.create(\n",
    "#     file=open('arquivos/pedido_iquine.pdf', 'rb'),\n",
    "#     purpose='assistants'\n",
    "# )\n",
    "\n",
    "file = client.files.retrieve(file_id='file-uyoU2QBN26FGOhYqLjzW6xKM')"
   ]
  },
  {
   "cell_type": "markdown",
   "metadata": {},
   "source": [
    "##### Definindo o assistant"
   ]
  },
  {
   "cell_type": "code",
   "execution_count": 31,
   "metadata": {},
   "outputs": [],
   "source": [
    "# Create an Assistant (or fetch it if it was already created). It has to have\n",
    "# \"file_search\" tool enabled to attach files when prompting it.\n",
    "def get_assistant():\n",
    "    for assistant in client.beta.assistants.list():\n",
    "        if assistant.name == 'Assistente de compras':\n",
    "            return assistant\n",
    "\n",
    "    # No Assistant found, create a new one\n",
    "    return client.beta.assistants.create(\n",
    "        model='gpt-4o',\n",
    "        description='Você é um assistente de compras de uma distribuidora de materiais para construção.',\n",
    "        instructions=\"Você ajuda a extrair de um pedido de compra no formato pdf os itens contidos nele e retorna os dados em formato json.\",\n",
    "        tools=[{\"type\": \"file_search\"}],\n",
    "        # response_format={\"type\": \"json_object\"}, # Isn't possible with \"file_search\"\n",
    "        name='Assistente de compras',\n",
    "    )"
   ]
  },
  {
   "cell_type": "markdown",
   "metadata": {},
   "source": [
    "##### Criando a Thread das mensagens"
   ]
  },
  {
   "cell_type": "code",
   "execution_count": 32,
   "metadata": {},
   "outputs": [],
   "source": [
    "# Create thread\n",
    "thread = client.beta.threads.create()"
   ]
  },
  {
   "cell_type": "markdown",
   "metadata": {},
   "source": [
    "##### Criando uma mensagem"
   ]
  },
  {
   "cell_type": "code",
   "execution_count": 33,
   "metadata": {},
   "outputs": [
    {
     "data": {
      "text/plain": [
       "Message(id='msg_RNQnMXJGroyr4Stz050h4Z5F', assistant_id=None, attachments=[Attachment(file_id='file-uyoU2QBN26FGOhYqLjzW6xKM', tools=[AttachmentToolAssistantToolsFileSearchTypeOnly(type='file_search')])], completed_at=None, content=[TextContentBlock(text=Text(annotations=[], value='leia todas as páginas do pdf e retorne todos os itens econtrados no formato json válido.'), type='text')], created_at=1725651363, incomplete_at=None, incomplete_details=None, metadata={}, object='thread.message', role='user', run_id=None, status=None, thread_id='thread_wvGrAao6zF5TWvGRMLtMCNa7')"
      ]
     },
     "execution_count": 33,
     "metadata": {},
     "output_type": "execute_result"
    }
   ],
   "source": [
    "# Add your prompt here\n",
    "prompt = \"leia todas as páginas do pdf e retorne todos os itens econtrados no formato json válido.\"\n",
    "client.beta.threads.messages.create(\n",
    "    thread_id = thread.id,\n",
    "    role='user',\n",
    "    content=prompt,\n",
    "    attachments=[Attachment(file_id=file.id, tools=[AttachmentToolFileSearch(type='file_search')])]\n",
    ")\n"
   ]
  },
  {
   "cell_type": "markdown",
   "metadata": {},
   "source": [
    "##### Enviando a mensagem"
   ]
  },
  {
   "cell_type": "code",
   "execution_count": 34,
   "metadata": {},
   "outputs": [],
   "source": [
    "# Run the created thread with the assistant. It will wait until the message is processed.\n",
    "run = client.beta.threads.runs.create_and_poll(\n",
    "    thread_id=thread.id,\n",
    "    assistant_id=get_assistant().id,\n",
    "    max_prompt_tokens=50000,\n",
    "    timeout=300, # 5 minutes\n",
    "    # response_format={\"type\": \"json_object\"}, # Isn't possible\n",
    ")"
   ]
  },
  {
   "cell_type": "markdown",
   "metadata": {},
   "source": [
    "##### Verificando se a mensagem foi processada corretamente"
   ]
  },
  {
   "cell_type": "code",
   "execution_count": 35,
   "metadata": {},
   "outputs": [],
   "source": [
    "# Eg. issue with openai server\n",
    "if run.status != \"completed\":\n",
    "    raise Exception('Run failed:', run.status)"
   ]
  },
  {
   "cell_type": "markdown",
   "metadata": {},
   "source": [
    "##### Pegando a resposta de retorno"
   ]
  },
  {
   "cell_type": "code",
   "execution_count": 36,
   "metadata": {},
   "outputs": [],
   "source": [
    "# Fetch outputs of the thread\n",
    "messages_cursor = client.beta.threads.messages.list(thread_id=thread.id)\n",
    "messages = [message for message in messages_cursor]"
   ]
  },
  {
   "cell_type": "code",
   "execution_count": 39,
   "metadata": {},
   "outputs": [
    {
     "data": {
      "text/plain": [
       "Usage(completion_tokens=2421, prompt_tokens=6599, total_tokens=9020)"
      ]
     },
     "execution_count": 39,
     "metadata": {},
     "output_type": "execute_result"
    }
   ],
   "source": [
    "run.usage"
   ]
  },
  {
   "cell_type": "code",
   "execution_count": 38,
   "metadata": {},
   "outputs": [
    {
     "name": "stdout",
     "output_type": "stream",
     "text": [
      "{\n",
      "    \"itens\": [\n",
      "        {\"Referencia\": \"11.124\", \"Descrição\": \"TEE SOLD PVC DE 50X50mm\", \"Qtde\": \"150,000\", \"Preço Líq\": \"2,52\"},\n",
      "        {\"Referencia\": \"12.901\", \"Descrição\": \"JOELHO AZUL C/BUCHA LATAO 90o 25X1/2\\\"\", \"Qtde\": \"600,000\", \"Preço Líq\": \"1,54\"},\n",
      "        {\"Referencia\": \"11.268\", \"Descrição\": \"TEE PVC ESG SN DN 50\", \"Qtde\": \"200,000\", \"Preço Líq\": \"1,91\"},\n",
      "        {\"Referencia\": \"11.270\", \"Descrição\": \"TEE PVC ESG SN DN 100\", \"Qtde\": \"100,000\", \"Preço Líq\": \"4,37\"},\n",
      "        {\"Referencia\": \"11.238\", \"Descrição\": \"JOELHO PVC ESG SN 45o DN 50\", \"Qtde\": \"100,000\", \"Preço Líq\": \"1,18\"},\n",
      "        {\"Referencia\": \"11.239\", \"Descrição\": \"JOELHO PVC ESG SN 45o DN 75\", \"Qtde\": \"120,000\", \"Preço Líq\": \"2,24\"},\n",
      "        {\"Referencia\": \"11.240\", \"Descrição\": \"JOELHO PVC ESG SN 45o DN 100\", \"Qtde\": \"100,000\", \"Preço Líq\": \"3,38\"},\n",
      "        {\"Referencia\": \"11.919\", \"Descrição\": \"JOELHO PVC ESG SN 90o DN 200*\", \"Qtde\": \"10,000\", \"Preço Líq\": \"50,39\"},\n",
      "        {\"Referencia\": \"11.254\", \"Descrição\": \"LUVA SIMPLES PVC ESG SN DN 50\", \"Qtde\": \"100,000\", \"Preço Líq\": \"0,61\"},\n",
      "        {\"Referencia\": \"11.255\", \"Descrição\": \"LUVA SIMPLES PVC ESG SN DN 75\", \"Qtde\": \"204,000\", \"Preço Líq\": \"1,64\"},\n",
      "        {\"Referencia\": \"11.960\", \"Descrição\": \"CAP PVC ESG TIPO LEVE DN 300*\", \"Qtde\": \"5,000\", \"Preço Líq\": \"62,22\"},\n",
      "        {\"Referencia\": \"11.959\", \"Descrição\": \"CAP PVC ESG TIPO LEVE DN 250*\", \"Qtde\": \"10,000*\", \"Preço Líq\": \"33,62\"},\n",
      "        {\"Referencia\": \"11.202\", \"Descrição\": \"ADAPT CURTO LR SOLD PVC 50X1.1/2\\\"\", \"Qtde\": \"150,000\", \"Preço Líq\": \"1,33\"},\n",
      "        {\"Referencia\": \"11.308\", \"Descrição\": \"TUBO PVC ESGOTO SN DN 50/6m\", \"Qtde\": \"200,000\", \"Preço Líq\": \"21,55\"},\n",
      "        {\"Referencia\": \"11.101\", \"Descrição\": \"JOELHO SOLD PVC 90o DE 25mm\", \"Qtde\": \"8000,000\", \"Preço Líq\": \"0,17\"},\n",
      "        {\"Referencia\": \"11.201\", \"Descrição\": \"ADAPT CURTO LR SOLD PVC 25X3/4\\\"\", \"Qtde\": \"500,000\", \"Preço Líq\": \"0,25\"},\n",
      "        {\"Referencia\": \"11.122\", \"Descrição\": \"TEE SOLD PVC DE 32X32mm\", \"Qtde\": \"800,000\", \"Preço Líq\": \"0,80\"},\n",
      "        {\"Referencia\": \"11.237\", \"Descrição\": \"JOELHO PVC ESG SN 45o DN 40\", \"Qtde\": \"500,000\", \"Preço Líq\": \"0,55\"},\n",
      "        {\"Referencia\": \"11.234\", \"Descrição\": \"JOELHO PVC ESG SN 90o DN 150\", \"Qtde\": \"120,000\", \"Preço Líq\": \"14,70\"},\n",
      "        {\"Referencia\": \"11.253\", \"Descrição\": \"LUVA SIMPLES PVC ESG SN DN 40\", \"Qtde\": \"300,000\", \"Preço Líq\": \"0,44\"},\n",
      "        {\"Referencia\": \"11.256\", \"Descrição\": \"LUVA SIMPLES PVC ESG SN DN 100\", \"Qtde\": \"100,000\", \"Preço Líq\": \"1,74\"},\n",
      "        {\"Referencia\": \"11.928\", \"Descrição\": \"LUVA SIMPLES PVC ESG SN DN 200*\", \"Qtde\": \"10,000\", \"Preço Líq\": \"13,81\"},\n",
      "        {\"Referencia\": \"11.260\", \"Descrição\": \"BUCHA DE REDUCAO PVC ESG SN DN 50X40\", \"Qtde\": \"600,000\", \"Preço Líq\": \"0,61\"},\n",
      "        {\"Referencia\": \"12.007\", \"Descrição\": \"CURVA SOLD LONGA PVC 90o DE 25mm\", \"Qtde\": \"500,000\", \"Preço Líq\": \"1,19\"},\n",
      "        {\"Referencia\": \"11.357\", \"Descrição\": \"TUBO SOLD AGUA FRIA PVC DE 75mm/6m\", \"Qtde\": \"40,000\", \"Preço Líq\": \"66,92\"},\n",
      "        {\"Referencia\": \"12.987\", \"Descrição\": \"TEE IRRIGACAO SOLDAVEL 32mm\", \"Qtde\": \"200,000\", \"Preço Líq\": \"0,75\"},\n",
      "        {\"Referencia\": \"13.278\", \"Descrição\": \"TUBO IRRIG L.F. PN 60 DN 50mm\", \"Qtde\": \"200,000\", \"Preço Líq\": \"20,15\"},\n",
      "        {\"Referencia\": \"11.161\", \"Descrição\": \"BUCHA RED SOLD CURTA PVC DE 32X25mm\", \"Qtde\": \"500,000\", \"Preço Líq\": \"0,31\"},\n",
      "        {\"Referencia\": \"13.591\", \"Descrição\": \"TUBO IRRIGACAO SOLDAVEL PN 60 DN 100mm\", \"Qtde\": \"100,000\", \"Preço Líq\": \"57,76\"},\n",
      "        {\"Referencia\": \"11.352\", \"Descrição\": \"TUBO SOLD AGUA FRIA PVC DE 32mm/6m\", \"Qtde\": \"300,000\", \"Preço Líq\": \"20,79\"},\n",
      "        {\"Referencia\": \"11.355\", \"Descrição\": \"TUBO SOLD AGUA FRIA PVC DE 60mm/6m\", \"Qtde\": \"50,000\", \"Preço Líq\": \"54,62\"},\n",
      "        {\"Referencia\": \"11.184\", \"Descrição\": \"CAP SOLD PVC DE 50mm\", \"Qtde\": \"100,000\", \"Preço Líq\": \"2,20\"},\n",
      "        {\"Referencia\": \"11.181\", \"Descrição\": \"CAP SOLD PVC DE 25mm\", \"Qtde\": \"300,000\", \"Preço Líq\": \"0,28\"},\n",
      "        {\"Referencia\": \"11.180\", \"Descrição\": \"CAP SOLD PVC DE 20mm\", \"Qtde\": \"100,000\", \"Preço Líq\": \"0,25\"},\n",
      "        {\"Referencia\": \"11.148\", \"Descrição\": \"LUVA LR SOLD PVC 25X3/4\\\"\", \"Qtde\": \"200,000\", \"Preço Líq\": \"0,53\"},\n",
      "        {\"Referencia\": \"11.102\", \"Descrição\": \"JOELHO SOLD PVC 90o DE 32mm\", \"Qtde\": \"600,000\", \"Preço Líq\": \"0,79\"},\n",
      "        {\"Referencia\": \"11.100\", \"Descrição\": \"JOELHO SOLD PVC 90o DE 20mm\", \"Qtde\": \"200,000\", \"Preço Líq\": \"0,12\"},\n",
      "        {\"Referencia\": \"11.160\", \"Descrição\": \"BUCHA RED SOLD CURTA PVC DE 25X20mm\", \"Qtde\": \"200,000\", \"Preço Líq\": \"0,14\"},\n",
      "        {\"Referencia\": \"11.103\", \"Descrição\": \"JOELHO SOLD PVC 90o DE 40mm\", \"Qtde\": \"100,000\", \"Preço Líq\": \"1,08\"},\n",
      "        {\"Referencia\": \"11.105\", \"Descrição\": \"JOELHO SOLD PVC 90o DE 60mm\", \"Qtde\": \"100,000\", \"Preço Líq\": \"6,04\"},\n",
      "        {\"Referencia\": \"11.113\", \"Descrição\": \"JOELHO LR SOLD PVC 90o 25X1/2\\\"\", \"Qtde\": \"210,000\", \"Preço Líq\": \"0,69\"},\n",
      "        {\"Referencia\": \"11.114\", \"Descrição\": \"JOELHO LR SOLD PVC 90o 25X3/4\\\"\", \"Qtde\": \"210,000\", \"Preço Líq\": \"0,74\"},\n",
      "        {\"Referencia\": \"12.390\", \"Descrição\": \"LUVA CORRER 25mm AGUA PVC\", \"Qtde\": \"300,000\", \"Preço Líq\": \"2,58\"},\n",
      "        {\"Referencia\": \"12.400\", \"Descrição\": \"LUVA CORRER AGUA PVC DE 50mm C/ ANEL\", \"Qtde\": \"60,000\", \"Preço Líq\": \"6,47\"},\n",
      "        {\"Referencia\": \"11.310\", \"Descrição\": \"TUBO PVC ESGOTO SN DN 100/6m\", \"Qtde\": \"1000,000\", \"Preço Líq\": \"32,97\"},\n",
      "        {\"Referencia\": \"11.307\", \"Descrição\": \"TUBO PVC ESGOTO SN DN 40/6m\", \"Qtde\": \"200,000\", \"Preço Líq\": \"15,30\"},\n",
      "        {\"Referencia\": \"11.351\", \"Descrição\": \"TUBO SOLD AGUA FRIA PVC DE 25mm/6m\", \"Qtde\": \"3000,000\", \"Preço Líq\": \"7,62\"},\n",
      "        {\"Referencia\": \"11.354\", \"Descrição\": \"TUBO SOLD AGUA FRIA PVC DE 50mm/6m\", \"Qtde\": \"200,000\", \"Preço Líq\": \"32,56\"},\n",
      "        {\"Referencia\": \"11.312\", \"Descrição\": \"TUBO PVC ESGOTO SN DN 200/6m\", \"Qtde\": \"60,000\", \"Preço Líq\": \"165,68\"},\n",
      "        {\"Referencia\": \"11.142\", \"Descrição\": \"LUVA SOLD PVC DE 32X32mm\", \"Qtde\": \"1200,000\", \"Preço Líq\": \"0,69\"},\n",
      "        {\"Referencia\": \"11.144\", \"Descrição\": \"LUVA SOLD PVC DE 50X50mm\", \"Qtde\": \"800,000\", \"Preço Líq\": \"1,46\"}\n",
      "    ]\n",
      "}\n"
     ]
    }
   ],
   "source": [
    "message = messages[0] # This is the output from the Assistant (second message is your message)\n",
    "assert message.content[0].type == \"text\"\n",
    "\n",
    "# Output text of the Assistant\n",
    "res_txt = message.content[0].text.value\n",
    "\n",
    "if res_txt.startswith('```json'):\n",
    "    res_txt = res_txt[6:]\n",
    "if res_txt.endswith('```'):\n",
    "    res_txt = res_txt[:-3]\n",
    "res_txt = res_txt[:res_txt.rfind('}')+1]\n",
    "res_txt = res_txt[res_txt.find('{'):]\n",
    "res_txt.strip()\n",
    "\n",
    "print(res_txt)\n",
    "\n",
    "# data = json.loads(res_txt)\n",
    "# print(data)"
   ]
  }
 ],
 "metadata": {
  "kernelspec": {
   "display_name": ".venv",
   "language": "python",
   "name": "python3"
  },
  "language_info": {
   "codemirror_mode": {
    "name": "ipython",
    "version": 3
   },
   "file_extension": ".py",
   "mimetype": "text/x-python",
   "name": "python",
   "nbconvert_exporter": "python",
   "pygments_lexer": "ipython3",
   "version": "3.12.0"
  }
 },
 "nbformat": 4,
 "nbformat_minor": 2
}
